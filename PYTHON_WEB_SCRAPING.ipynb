{
  "nbformat": 4,
  "nbformat_minor": 0,
  "metadata": {
    "colab": {
      "provenance": [],
      "collapsed_sections": [],
      "authorship_tag": "ABX9TyMzowcF3va0pstMQKGhVtaU",
      "include_colab_link": true
    },
    "kernelspec": {
      "name": "python3",
      "display_name": "Python 3"
    },
    "language_info": {
      "name": "python"
    }
  },
  "cells": [
    {
      "cell_type": "markdown",
      "metadata": {
        "id": "view-in-github",
        "colab_type": "text"
      },
      "source": [
        "<a href=\"https://colab.research.google.com/github/arunkashish/Arunkumar.S/blob/main/PYTHON_WEB_SCRAPING.ipynb\" target=\"_parent\"><img src=\"https://colab.research.google.com/assets/colab-badge.svg\" alt=\"Open In Colab\"/></a>"
      ]
    },
    {
      "cell_type": "code",
      "source": [
        "pip install lxml\n"
      ],
      "metadata": {
        "colab": {
          "base_uri": "https://localhost:8080/"
        },
        "id": "6A8QH-_TiIAL",
        "outputId": "559cd8d0-628b-42a0-c4ef-2d0a649ba5fd"
      },
      "execution_count": null,
      "outputs": [
        {
          "output_type": "stream",
          "name": "stdout",
          "text": [
            "Looking in indexes: https://pypi.org/simple, https://us-python.pkg.dev/colab-wheels/public/simple/\n",
            "Requirement already satisfied: lxml in /usr/local/lib/python3.7/dist-packages (4.9.1)\n"
          ]
        }
      ]
    },
    {
      "cell_type": "code",
      "source": [
        "pip install requests\n"
      ],
      "metadata": {
        "colab": {
          "base_uri": "https://localhost:8080/"
        },
        "id": "AvIb9ldqiO6u",
        "outputId": "114b1210-827e-441e-b15b-734c25341604"
      },
      "execution_count": null,
      "outputs": [
        {
          "output_type": "stream",
          "name": "stdout",
          "text": [
            "Looking in indexes: https://pypi.org/simple, https://us-python.pkg.dev/colab-wheels/public/simple/\n",
            "Requirement already satisfied: requests in /usr/local/lib/python3.7/dist-packages (2.23.0)\n",
            "Requirement already satisfied: certifi>=2017.4.17 in /usr/local/lib/python3.7/dist-packages (from requests) (2022.6.15)\n",
            "Requirement already satisfied: urllib3!=1.25.0,!=1.25.1,<1.26,>=1.21.1 in /usr/local/lib/python3.7/dist-packages (from requests) (1.24.3)\n",
            "Requirement already satisfied: idna<3,>=2.5 in /usr/local/lib/python3.7/dist-packages (from requests) (2.10)\n",
            "Requirement already satisfied: chardet<4,>=3.0.2 in /usr/local/lib/python3.7/dist-packages (from requests) (3.0.4)\n"
          ]
        }
      ]
    },
    {
      "cell_type": "code",
      "source": [
        "pip install bs4"
      ],
      "metadata": {
        "colab": {
          "base_uri": "https://localhost:8080/"
        },
        "id": "K_t3Qz3PiRsx",
        "outputId": "cfee4cc2-c3ca-4043-8844-801fc0f6e8f2"
      },
      "execution_count": null,
      "outputs": [
        {
          "output_type": "stream",
          "name": "stdout",
          "text": [
            "Looking in indexes: https://pypi.org/simple, https://us-python.pkg.dev/colab-wheels/public/simple/\n",
            "Requirement already satisfied: bs4 in /usr/local/lib/python3.7/dist-packages (0.0.1)\n",
            "Requirement already satisfied: beautifulsoup4 in /usr/local/lib/python3.7/dist-packages (from bs4) (4.6.3)\n"
          ]
        }
      ]
    },
    {
      "cell_type": "code",
      "source": [
        "import requests\n",
        "import bs4\n",
        "import lxml"
      ],
      "metadata": {
        "id": "aQo38JBSiX-T"
      },
      "execution_count": null,
      "outputs": []
    },
    {
      "cell_type": "markdown",
      "source": [
        "JONAS SITE WEBSCRAP"
      ],
      "metadata": {
        "id": "gN7zxG8evDVD"
      }
    },
    {
      "cell_type": "code",
      "source": [
        "result=requests.get(\"https://en.wikipedia.org/wiki/Jonas_Salk\")"
      ],
      "metadata": {
        "id": "2BwmU7KniVKz"
      },
      "execution_count": null,
      "outputs": []
    },
    {
      "cell_type": "code",
      "source": [
        "result.text"
      ],
      "metadata": {
        "colab": {
          "base_uri": "https://localhost:8080/",
          "height": 139
        },
        "id": "AaBvGYT-k0O_",
        "outputId": "22c99122-856e-4d14-e099-f6443839becc"
      },
      "execution_count": null,
      "outputs": [
        {
          "output_type": "execute_result",
          "data": {
            "text/plain": [
              "'<!DOCTYPE html>\\n<html class=\"client-nojs\" lang=\"en\" dir=\"ltr\">\\n<head>\\n<meta charset=\"UTF-8\"/>\\n<title>Jonas Salk - Wikipedia</title>\\n<script>document.documentElement.className=\"client-js\";RLCONF={\"wgBreakFrames\":false,\"wgSeparatorTransformTable\":[\"\",\"\"],\"wgDigitTransformTable\"align:center;padding:1px;mar23T12:07:21Z\",\"image\":\"https:\\\\/\\\\/upload.wikimedia.org\\\\/wikipedia\\\\/commons\\\\/5\\\\/59\\\\/Jonas_Salk_candid.jpg\",\"headline\":\"Inventor of polio vaccine (1914-1995)\"}</script>\\n<script>(RLQ=window.RLQ||[]).push(function(){mw.config.set({\"wgBackendResponseTime\":186,\"wgHostname\":\"mw1326\"});});</script>\\n</body>\\n</html>'"
            ],
            "application/vnd.google.colaboratory.intrinsic+json": {
              "type": "string"
            }
          },
          "metadata": {},
          "execution_count": 6
        }
      ]
    },
    {
      "cell_type": "code",
      "source": [
        "soup=bs4.BeautifulSoup(result.text,\"lxml\")"
      ],
      "metadata": {
        "id": "p6ZnqJQMltpM"
      },
      "execution_count": null,
      "outputs": []
    },
    {
      "cell_type": "code",
      "source": [
        "soup"
      ],
      "metadata": {
        "id": "rW7OhlglmWZl"
      },
      "execution_count": null,
      "outputs": []
    },
    {
      "cell_type": "code",
      "source": [
        "soup.select(\"p\")"
      ],
      "metadata": {
        "id": "RRIb2cDUma1-"
      },
      "execution_count": null,
      "outputs": []
    },
    {
      "cell_type": "code",
      "source": [
        "soup.select(\"p\")[4].getText()"
      ],
      "metadata": {
        "colab": {
          "base_uri": "https://localhost:8080/",
          "height": 87
        },
        "id": "dGkZVCDtnD7_",
        "outputId": "abed687b-6196-4c6f-acad-4de7d71fea9c"
      },
      "execution_count": null,
      "outputs": [
        {
          "output_type": "execute_result",
          "data": {
            "text/plain": [
              "'In 1963, Salk founded the Salk Institute for Biological Studies in La Jolla, California, which is today a center for medical and scientific research. He continued to conduct research and publish books in his later years, focusing in his last years on the search for a vaccine against HIV. Salk also campaigned vigorously for mandatory vaccination throughout the rest of his life, calling the universal vaccination of children against disease a \"moral commitment\".[6] Salk\\'s personal papers are today stored in Geisel Library at the University of California, San Diego.[7][8]\\n'"
            ],
            "application/vnd.google.colaboratory.intrinsic+json": {
              "type": "string"
            }
          },
          "metadata": {},
          "execution_count": 10
        }
      ]
    },
    {
      "cell_type": "code",
      "source": [
        "soup.select(\"title\")"
      ],
      "metadata": {
        "colab": {
          "base_uri": "https://localhost:8080/"
        },
        "id": "oeeRDocymnjL",
        "outputId": "90881de0-9872-44da-a9da-c5c7a88e57e1"
      },
      "execution_count": null,
      "outputs": [
        {
          "output_type": "execute_result",
          "data": {
            "text/plain": [
              "[<title>Jonas Salk - Wikipedia</title>]"
            ]
          },
          "metadata": {},
          "execution_count": 11
        }
      ]
    },
    {
      "cell_type": "code",
      "source": [
        "soup.select(\"title\")[0].getText()"
      ],
      "metadata": {
        "colab": {
          "base_uri": "https://localhost:8080/",
          "height": 35
        },
        "id": "a-DufgMtm27g",
        "outputId": "9ff0fa05-e1b2-48b8-d600-942b526d68ce"
      },
      "execution_count": null,
      "outputs": [
        {
          "output_type": "execute_result",
          "data": {
            "text/plain": [
              "'Jonas Salk - Wikipedia'"
            ],
            "application/vnd.google.colaboratory.intrinsic+json": {
              "type": "string"
            }
          },
          "metadata": {},
          "execution_count": 12
        }
      ]
    },
    {
      "cell_type": "code",
      "source": [
        "soup.select(\"h1\")"
      ],
      "metadata": {
        "id": "5VaNri0cmtA7",
        "colab": {
          "base_uri": "https://localhost:8080/"
        },
        "outputId": "cc6a4262-2288-4444-f438-87817f0f1ec5"
      },
      "execution_count": null,
      "outputs": [
        {
          "output_type": "execute_result",
          "data": {
            "text/plain": [
              "[<h1 class=\"firstHeading mw-first-heading\" id=\"firstHeading\">Jonas Salk</h1>]"
            ]
          },
          "metadata": {},
          "execution_count": 13
        }
      ]
    },
    {
      "cell_type": "code",
      "source": [
        "firstcls=soup.select(\".toctext\")[0]\n",
        "type(firstcls)"
      ],
      "metadata": {
        "colab": {
          "base_uri": "https://localhost:8080/"
        },
        "id": "gL12yjHSmw5F",
        "outputId": "2ba26ec1-345b-415d-c3fa-0907bd4e34df"
      },
      "execution_count": null,
      "outputs": [
        {
          "output_type": "execute_result",
          "data": {
            "text/plain": [
              "bs4.element.Tag"
            ]
          },
          "metadata": {},
          "execution_count": 14
        }
      ]
    },
    {
      "cell_type": "code",
      "source": [
        "firstcls.text"
      ],
      "metadata": {
        "colab": {
          "base_uri": "https://localhost:8080/",
          "height": 35
        },
        "id": "nbFdmfN6sX-c",
        "outputId": "35e1a280-b84a-4a26-b35c-48b72a4beb02"
      },
      "execution_count": null,
      "outputs": [
        {
          "output_type": "execute_result",
          "data": {
            "text/plain": [
              "'Early life and education'"
            ],
            "application/vnd.google.colaboratory.intrinsic+json": {
              "type": "string"
            }
          },
          "metadata": {},
          "execution_count": 15
        }
      ]
    },
    {
      "cell_type": "code",
      "source": [
        "for i in soup.select(\".toctext\"):\n",
        "  print(i.text)"
      ],
      "metadata": {
        "colab": {
          "base_uri": "https://localhost:8080/"
        },
        "id": "aAIE5b6es_Bo",
        "outputId": "a4459c19-9a37-40ac-be21-369f29cd7f0e"
      },
      "execution_count": null,
      "outputs": [
        {
          "output_type": "stream",
          "name": "stdout",
          "text": [
            "Early life and education\n",
            "Education\n",
            "Medical school\n",
            "Postgraduate research and early laboratory work\n",
            "Polio research\n",
            "Becoming a public figure\n",
            "Celebrity versus privacy\n",
            "Maintaining his individuality\n",
            "Establishing the Salk Institute\n",
            "AIDS vaccine work\n",
            "Salk's \"biophilosophy\"\n",
            "Personal life and death\n",
            "Honors and recognition\n",
            "Documentary films\n",
            "Salk's book publications\n",
            "References\n",
            "Further reading\n",
            "External links\n"
          ]
        }
      ]
    },
    {
      "cell_type": "markdown",
      "source": [
        "DEEP BLUE  webscrap"
      ],
      "metadata": {
        "id": "mf41u9PUu9PL"
      }
    },
    {
      "cell_type": "code",
      "source": [
        "res=requests.get(\"https://en.wikipedia.org/wiki/Deep_Blue_(chess_computer)\")"
      ],
      "metadata": {
        "id": "ClnBd3QHvOJt"
      },
      "execution_count": null,
      "outputs": []
    },
    {
      "cell_type": "code",
      "source": [
        "soup=bs4.BeautifulSoup(res.text,\"lxml\")\n",
        "soup"
      ],
      "metadata": {
        "id": "obgH3-RuvTrF"
      },
      "execution_count": null,
      "outputs": []
    },
    {
      "cell_type": "code",
      "source": [
        "soup.select(\"img\")"
      ],
      "metadata": {
        "id": "iDXYFaJKvlYx"
      },
      "execution_count": null,
      "outputs": []
    },
    {
      "cell_type": "markdown",
      "source": [
        "TO be specific image check for the class used for that image"
      ],
      "metadata": {
        "id": "59-Kp9Yvvq4T"
      }
    },
    {
      "cell_type": "code",
      "source": [
        "computer=soup.select(\".infobox-image\")[0]\n",
        "computer"
      ],
      "metadata": {
        "colab": {
          "base_uri": "https://localhost:8080/"
        },
        "id": "GT6togs6vpDZ",
        "outputId": "23322102-f694-4fb6-f506-231e4715fb40"
      },
      "execution_count": null,
      "outputs": [
        {
          "output_type": "execute_result",
          "data": {
            "text/plain": [
              "<td class=\"infobox-image\" colspan=\"2\"><a class=\"image\" href=\"/wiki/File:Deep_Blue.jpg\"><img alt=\"Deep Blue.jpg\" data-file-height=\"601\" data-file-width=\"400\" decoding=\"async\" height=\"331\" src=\"//upload.wikimedia.org/wikipedia/commons/thumb/b/be/Deep_Blue.jpg/220px-Deep_Blue.jpg\" srcset=\"//upload.wikimedia.org/wikipedia/commons/thumb/b/be/Deep_Blue.jpg/330px-Deep_Blue.jpg 1.5x, //upload.wikimedia.org/wikipedia/commons/b/be/Deep_Blue.jpg 2x\" width=\"220\"/></a><div class=\"infobox-caption\">One of the two cabinets of Deep Blue in its exhibit at the <a href=\"/wiki/Computer_History_Museum\" title=\"Computer History Museum\">Computer History Museum</a>, California</div></td>"
            ]
          },
          "metadata": {},
          "execution_count": 20
        }
      ]
    },
    {
      "cell_type": "code",
      "source": [
        "type(computer)"
      ],
      "metadata": {
        "colab": {
          "base_uri": "https://localhost:8080/"
        },
        "id": "NSPmDdziwvb0",
        "outputId": "3716a9e8-5862-4a13-e5ff-74c9b6f22e9e"
      },
      "execution_count": null,
      "outputs": [
        {
          "output_type": "execute_result",
          "data": {
            "text/plain": [
              "bs4.element.Tag"
            ]
          },
          "metadata": {},
          "execution_count": 21
        }
      ]
    },
    {
      "cell_type": "code",
      "source": [
        "computer[\"class\"]"
      ],
      "metadata": {
        "colab": {
          "base_uri": "https://localhost:8080/"
        },
        "id": "NK-enGyGw1Uq",
        "outputId": "a8ff6689-6f5e-43a3-f868-8004e5e3d523"
      },
      "execution_count": null,
      "outputs": [
        {
          "output_type": "execute_result",
          "data": {
            "text/plain": [
              "['infobox-image']"
            ]
          },
          "metadata": {},
          "execution_count": 22
        }
      ]
    },
    {
      "cell_type": "code",
      "source": [
        "newimage=soup.select(\".image\")[0]\n",
        "newimage"
      ],
      "metadata": {
        "colab": {
          "base_uri": "https://localhost:8080/"
        },
        "id": "VTL6dU7YzR5l",
        "outputId": "967382eb-58fa-4602-f44c-6668242098eb"
      },
      "execution_count": null,
      "outputs": [
        {
          "output_type": "execute_result",
          "data": {
            "text/plain": [
              "<a class=\"image\" href=\"/wiki/File:Deep_Blue.jpg\"><img alt=\"Deep Blue.jpg\" data-file-height=\"601\" data-file-width=\"400\" decoding=\"async\" height=\"331\" src=\"//upload.wikimedia.org/wikipedia/commons/thumb/b/be/Deep_Blue.jpg/220px-Deep_Blue.jpg\" srcset=\"//upload.wikimedia.org/wikipedia/commons/thumb/b/be/Deep_Blue.jpg/330px-Deep_Blue.jpg 1.5x, //upload.wikimedia.org/wikipedia/commons/b/be/Deep_Blue.jpg 2x\" width=\"220\"/></a>"
            ]
          },
          "metadata": {},
          "execution_count": 23
        }
      ]
    },
    {
      "cell_type": "code",
      "source": [
        "newimage['src']"
      ],
      "metadata": {
        "colab": {
          "base_uri": "https://localhost:8080/",
          "height": 287
        },
        "id": "BGqtwHmnzdQ6",
        "outputId": "f0789b59-0e16-4eb3-a514-3d033c677a23"
      },
      "execution_count": null,
      "outputs": [
        {
          "output_type": "error",
          "ename": "KeyError",
          "evalue": "ignored",
          "traceback": [
            "\u001b[0;31m---------------------------------------------------------------------------\u001b[0m",
            "\u001b[0;31mKeyError\u001b[0m                                  Traceback (most recent call last)",
            "\u001b[0;32m<ipython-input-24-2dbcdad633d8>\u001b[0m in \u001b[0;36m<module>\u001b[0;34m\u001b[0m\n\u001b[0;32m----> 1\u001b[0;31m \u001b[0mnewimage\u001b[0m\u001b[0;34m[\u001b[0m\u001b[0;34m'src'\u001b[0m\u001b[0;34m]\u001b[0m\u001b[0;34m\u001b[0m\u001b[0;34m\u001b[0m\u001b[0m\n\u001b[0m",
            "\u001b[0;32m/usr/local/lib/python3.7/dist-packages/bs4/element.py\u001b[0m in \u001b[0;36m__getitem__\u001b[0;34m(self, key)\u001b[0m\n\u001b[1;32m   1069\u001b[0m         \"\"\"tag[key] returns the value of the 'key' attribute for the tag,\n\u001b[1;32m   1070\u001b[0m         and throws an exception if it's not there.\"\"\"\n\u001b[0;32m-> 1071\u001b[0;31m         \u001b[0;32mreturn\u001b[0m \u001b[0mself\u001b[0m\u001b[0;34m.\u001b[0m\u001b[0mattrs\u001b[0m\u001b[0;34m[\u001b[0m\u001b[0mkey\u001b[0m\u001b[0;34m]\u001b[0m\u001b[0;34m\u001b[0m\u001b[0;34m\u001b[0m\u001b[0m\n\u001b[0m\u001b[1;32m   1072\u001b[0m \u001b[0;34m\u001b[0m\u001b[0m\n\u001b[1;32m   1073\u001b[0m     \u001b[0;32mdef\u001b[0m \u001b[0m__iter__\u001b[0m\u001b[0;34m(\u001b[0m\u001b[0mself\u001b[0m\u001b[0;34m)\u001b[0m\u001b[0;34m:\u001b[0m\u001b[0;34m\u001b[0m\u001b[0;34m\u001b[0m\u001b[0m\n",
            "\u001b[0;31mKeyError\u001b[0m: 'src'"
          ]
        }
      ]
    },
    {
      "cell_type": "markdown",
      "source": [
        "<img\n",
        "src=\"//upload.wikimedia.org/wikipedia/commons/thumb/b/be/Deep_Blue.jpg/220px-Deep_Blue.jpg\">"
      ],
      "metadata": {
        "id": "mH0U-ys90kN-"
      }
    },
    {
      "cell_type": "code",
      "source": [
        "image_link=requests.get(\"https://upload.wikimedia.org/wikipedia/commons/thumb/b/be/Deep_Blue.jpg/220px-Deep_Blue.jpg\")"
      ],
      "metadata": {
        "id": "A7eUdUqY0n4R"
      },
      "execution_count": null,
      "outputs": []
    },
    {
      "cell_type": "code",
      "source": [
        "image_link.content"
      ],
      "metadata": {
        "id": "1oQom0SP1FZV"
      },
      "execution_count": null,
      "outputs": []
    },
    {
      "cell_type": "code",
      "source": [
        "f=open('scrap_image','wb')"
      ],
      "metadata": {
        "id": "7uO2KOPy1h3-"
      },
      "execution_count": null,
      "outputs": []
    },
    {
      "cell_type": "code",
      "source": [
        "f.write(image_link.content)"
      ],
      "metadata": {
        "colab": {
          "base_uri": "https://localhost:8080/"
        },
        "id": "43PQYEK61puN",
        "outputId": "e350b50d-422d-4607-b5f1-8cb466b729d2"
      },
      "execution_count": null,
      "outputs": [
        {
          "output_type": "execute_result",
          "data": {
            "text/plain": [
              "16806"
            ]
          },
          "metadata": {},
          "execution_count": 28
        }
      ]
    },
    {
      "cell_type": "code",
      "source": [
        "f.close"
      ],
      "metadata": {
        "colab": {
          "base_uri": "https://localhost:8080/"
        },
        "id": "nxS5zQRq10SK",
        "outputId": "f7864727-44e4-48b6-9d6b-252d03f892b0"
      },
      "execution_count": null,
      "outputs": [
        {
          "output_type": "execute_result",
          "data": {
            "text/plain": [
              "<function BufferedWriter.close>"
            ]
          },
          "metadata": {},
          "execution_count": 29
        }
      ]
    },
    {
      "cell_type": "code",
      "source": [
        "s=open(\"/content/scrap_image\")\n",
        "s"
      ],
      "metadata": {
        "colab": {
          "base_uri": "https://localhost:8080/"
        },
        "id": "n9nanWeu1_yc",
        "outputId": "9fbfeefa-a558-45b6-be53-1d443f9a565b"
      },
      "execution_count": null,
      "outputs": [
        {
          "output_type": "execute_result",
          "data": {
            "text/plain": [
              "<_io.TextIOWrapper name='/content/scrap_image' mode='r' encoding='UTF-8'>"
            ]
          },
          "metadata": {},
          "execution_count": 30
        }
      ]
    },
    {
      "cell_type": "markdown",
      "source": [
        "**  New project 1 with books (webscrap sanbox.com---www.toscrap.com)**"
      ],
      "metadata": {
        "id": "Y18itS3ZQ4cv"
      }
    },
    {
      "cell_type": "code",
      "source": [
        "base_url='http://books.toscrape.com/catalogue/page-{}.html'"
      ],
      "metadata": {
        "id": "WWrs-fHTRB0c"
      },
      "execution_count": null,
      "outputs": []
    },
    {
      "cell_type": "code",
      "source": [
        "page=int(20)\n",
        "for i in range(1,50):\n",
        "  w=base_url.format(str(i))\n",
        "  print(w)"
      ],
      "metadata": {
        "id": "KbGLt4p6RueF"
      },
      "execution_count": null,
      "outputs": []
    },
    {
      "cell_type": "code",
      "source": [
        "res=requests.get(base_url.format(1))\n",
        "soup=bs4.BeautifulSoup(res.text,'lxml')"
      ],
      "metadata": {
        "id": "asuW3DunT9Fq"
      },
      "execution_count": null,
      "outputs": []
    },
    {
      "cell_type": "code",
      "source": [
        "soup"
      ],
      "metadata": {
        "id": "iY2DCmWCU7zA"
      },
      "execution_count": null,
      "outputs": []
    },
    {
      "cell_type": "code",
      "source": [
        "product=soup.select(\".product_pod\")"
      ],
      "metadata": {
        "id": "GCglbZymVC4A"
      },
      "execution_count": null,
      "outputs": []
    },
    {
      "cell_type": "code",
      "source": [
        "examp=product[0]\n",
        "examp"
      ],
      "metadata": {
        "colab": {
          "base_uri": "https://localhost:8080/"
        },
        "id": "7CE7wT34VC_I",
        "outputId": "30d636e0-8afd-43da-f618-246645d63fdf"
      },
      "execution_count": null,
      "outputs": [
        {
          "output_type": "execute_result",
          "data": {
            "text/plain": [
              "<article class=\"product_pod\">\n",
              "<div class=\"image_container\">\n",
              "<a href=\"a-light-in-the-attic_1000/index.html\"><img alt=\"A Light in the Attic\" class=\"thumbnail\" src=\"../media/cache/2c/da/2cdad67c44b002e7ead0cc35693c0e8b.jpg\"/></a>\n",
              "</div>\n",
              "<p class=\"star-rating Three\">\n",
              "<i class=\"icon-star\"></i>\n",
              "<i class=\"icon-star\"></i>\n",
              "<i class=\"icon-star\"></i>\n",
              "<i class=\"icon-star\"></i>\n",
              "<i class=\"icon-star\"></i>\n",
              "</p>\n",
              "<h3><a href=\"a-light-in-the-attic_1000/index.html\" title=\"A Light in the Attic\">A Light in the ...</a></h3>\n",
              "<div class=\"product_price\">\n",
              "<p class=\"price_color\">Â£51.77</p>\n",
              "<p class=\"instock availability\">\n",
              "<i class=\"icon-ok\"></i>\n",
              "    \n",
              "        In stock\n",
              "    \n",
              "</p>\n",
              "<form>\n",
              "<button class=\"btn btn-primary btn-block\" data-loading-text=\"Adding...\" type=\"submit\">Add to basket</button>\n",
              "</form>\n",
              "</div>\n",
              "</article>"
            ]
          },
          "metadata": {},
          "execution_count": 55
        }
      ]
    },
    {
      "cell_type": "markdown",
      "source": [
        "star-rating Three - convet to star-rating.Three"
      ],
      "metadata": {
        "id": "55GjeTlEW2GL"
      }
    },
    {
      "cell_type": "code",
      "source": [
        "examp.select(\".star-rating.Three\")"
      ],
      "metadata": {
        "colab": {
          "base_uri": "https://localhost:8080/"
        },
        "id": "3yBanXEIWgb7",
        "outputId": "6d742b30-0b10-4afd-c1b8-88ade83c1fc9"
      },
      "execution_count": null,
      "outputs": [
        {
          "output_type": "execute_result",
          "data": {
            "text/plain": [
              "[<p class=\"star-rating Three\">\n",
              " <i class=\"icon-star\"></i>\n",
              " <i class=\"icon-star\"></i>\n",
              " <i class=\"icon-star\"></i>\n",
              " <i class=\"icon-star\"></i>\n",
              " <i class=\"icon-star\"></i>\n",
              " </p>]"
            ]
          },
          "metadata": {},
          "execution_count": 64
        }
      ]
    },
    {
      "cell_type": "markdown",
      "source": [
        "IMPORTANT TO CRAB THE TITLE of the  BOOK ALONE "
      ],
      "metadata": {
        "id": "pxNmw8HjXw8o"
      }
    },
    {
      "cell_type": "code",
      "source": [
        "examp.select(\"a\")[1]['title']"
      ],
      "metadata": {
        "colab": {
          "base_uri": "https://localhost:8080/",
          "height": 35
        },
        "id": "I7hGnP23WJCY",
        "outputId": "04907e47-d449-4a41-e93f-d6bec11dbaba"
      },
      "execution_count": null,
      "outputs": [
        {
          "output_type": "execute_result",
          "data": {
            "text/plain": [
              "'A Light in the Attic'"
            ],
            "application/vnd.google.colaboratory.intrinsic+json": {
              "type": "string"
            }
          },
          "metadata": {},
          "execution_count": 70
        }
      ]
    },
    {
      "cell_type": "code",
      "source": [
        "two_star_title=[]\n",
        "for i in range(1,51):\n",
        "  scrap_url=base_url.format(i)\n",
        "  res=requests.get(scrap_url)\n",
        "  soup=bs4.BeautifulSoup(res.text,'lxml')\n",
        "  \n",
        "  books=soup.select(\".product_pod\")\n",
        "  \n",
        "  for book in books:\n",
        "    if(len(book.select(\".star-rating.Two\"))!=0):\n",
        "      book_title=book.select(\"a\")[1]['title']\n",
        "      two_star_title.append(book_title)\n",
        "two_star_title"
      ],
      "metadata": {
        "id": "Fp3c_JDZXg2c"
      },
      "execution_count": null,
      "outputs": []
    },
    {
      "cell_type": "markdown",
      "source": [
        "**NEW PROJECT 2**"
      ],
      "metadata": {
        "id": "PptWcWUiaX4F"
      }
    },
    {
      "cell_type": "code",
      "source": [
        "base1=\"https://quotes.toscrape.com/page/{}/\""
      ],
      "metadata": {
        "id": "O8G_5D_baXKI"
      },
      "execution_count": null,
      "outputs": []
    },
    {
      "cell_type": "code",
      "source": [
        "res=requests.get(base1.format(1))\n",
        "soup=bs4.BeautifulSoup(res.text,'lxml')\n",
        "soup"
      ],
      "metadata": {
        "id": "nlQI-8dAbRt8"
      },
      "execution_count": null,
      "outputs": []
    },
    {
      "cell_type": "code",
      "source": [
        "soup.select(\".author\")"
      ],
      "metadata": {
        "id": "AmmfDQHRbyVy"
      },
      "execution_count": null,
      "outputs": []
    },
    {
      "cell_type": "code",
      "source": [
        "author=set()\n",
        "for names in soup.select(\".author\"):\n",
        "  author.add(names.text)\n",
        "author"
      ],
      "metadata": {
        "id": "J1sCqszdcsXD"
      },
      "execution_count": null,
      "outputs": []
    },
    {
      "cell_type": "code",
      "source": [
        "soup.select(\".text\")"
      ],
      "metadata": {
        "id": "d8_CvG7ldoxT"
      },
      "execution_count": null,
      "outputs": []
    },
    {
      "cell_type": "code",
      "source": [
        "content=set()\n",
        "for x in soup.select(\".text\"):\n",
        "  content.add(x.text)\n",
        "content"
      ],
      "metadata": {
        "id": "_eXGGSRWdwWv"
      },
      "execution_count": null,
      "outputs": []
    },
    {
      "cell_type": "code",
      "source": [
        "soup.select(\".tag-item\")"
      ],
      "metadata": {
        "id": "lvp1GkaveNDJ"
      },
      "execution_count": null,
      "outputs": []
    },
    {
      "cell_type": "code",
      "source": [
        "for y in soup.select(\".tag-item\"):\n",
        "  print(y.text)"
      ],
      "metadata": {
        "id": "73x3r_zceZup"
      },
      "execution_count": null,
      "outputs": []
    },
    {
      "cell_type": "code",
      "source": [
        "allauthors=set()\n",
        "for i in range(1,11):\n",
        "  base1_url=\"https://quotes.toscrape.com/page/{}/\"\n",
        "  res=requests.get(base1_url.format(i))\n",
        "  soup=bs4.BeautifulSoup(res.text,'lxml')\n",
        "  for nam in soup.select(\".author\"):\n",
        "    allauthors.add(nam.text)\n",
        "allauthors"
      ],
      "metadata": {
        "colab": {
          "base_uri": "https://localhost:8080/"
        },
        "id": "bLCoBBYOe8_b",
        "outputId": "f601ce50-59b4-4760-aac7-1be6fac68066"
      },
      "execution_count": null,
      "outputs": [
        {
          "output_type": "execute_result",
          "data": {
            "text/plain": [
              "{'Albert Einstein',\n",
              " 'Alexandre Dumas fils',\n",
              " 'Alfred Tennyson',\n",
              " 'Allen Saunders',\n",
              " 'André Gide',\n",
              " 'Ayn Rand',\n",
              " 'Bob Marley',\n",
              " 'C.S. Lewis',\n",
              " 'Charles Bukowski',\n",
              " 'Charles M. Schulz',\n",
              " 'Douglas Adams',\n",
              " 'Dr. Seuss',\n",
              " 'E.E. Cummings',\n",
              " 'Eleanor Roosevelt',\n",
              " 'Elie Wiesel',\n",
              " 'Ernest Hemingway',\n",
              " 'Friedrich Nietzsche',\n",
              " 'Garrison Keillor',\n",
              " 'George Bernard Shaw',\n",
              " 'George Carlin',\n",
              " 'George Eliot',\n",
              " 'George R.R. Martin',\n",
              " 'Harper Lee',\n",
              " 'Haruki Murakami',\n",
              " 'Helen Keller',\n",
              " 'J.D. Salinger',\n",
              " 'J.K. Rowling',\n",
              " 'J.M. Barrie',\n",
              " 'J.R.R. Tolkien',\n",
              " 'James Baldwin',\n",
              " 'Jane Austen',\n",
              " 'Jim Henson',\n",
              " 'Jimi Hendrix',\n",
              " 'John Lennon',\n",
              " 'Jorge Luis Borges',\n",
              " 'Khaled Hosseini',\n",
              " \"Madeleine L'Engle\",\n",
              " 'Marilyn Monroe',\n",
              " 'Mark Twain',\n",
              " 'Martin Luther King Jr.',\n",
              " 'Mother Teresa',\n",
              " 'Pablo Neruda',\n",
              " 'Ralph Waldo Emerson',\n",
              " 'Stephenie Meyer',\n",
              " 'Steve Martin',\n",
              " 'Suzanne Collins',\n",
              " 'Terry Pratchett',\n",
              " 'Thomas A. Edison',\n",
              " 'W.C. Fields',\n",
              " 'William Nicholson'}"
            ]
          },
          "metadata": {},
          "execution_count": 93
        }
      ]
    }
  ]
}
